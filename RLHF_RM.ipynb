{
 "cells": [
  {
   "cell_type": "markdown",
   "id": "8cef35b6",
   "metadata": {},
   "source": [
    "# RLHF Pipeline - Reward Model\n",
    "\n",
    "### Description 📝\n",
    "\n",
    "This notebook demonstrates the Reward Model pipeline within the Reinforcement Learning with Human Feedback (RLHF) framework. It outlines the steps to train a reward model using preference data, which is a key component in aligning AI behavior with human intent.\n",
    "The RLHF pipeline consist of 3 phases -\n",
    "\n",
    "1. Supervised Fine-tuning\n",
    "2. Reward Model\n",
    "3. Fine-Tuning with Reinforcement learning (PPO usually).\n",
    "\n",
    "This notebook only focuses on the second phase i.e. _Reward Model_\n",
    "\n",
    "> By Piyush Pant ( पियूष पंत )"
   ]
  },
  {
   "cell_type": "markdown",
   "id": "9f6cc376",
   "metadata": {},
   "source": [
    "## Installing all the Required Libraries"
   ]
  },
  {
   "cell_type": "code",
   "execution_count": null,
   "id": "872625fa",
   "metadata": {
    "scrolled": true
   },
   "outputs": [],
   "source": [
    "!pip install peft SentencePiece bitsandbytes trl  # add more if you have to "
   ]
  },
  {
   "cell_type": "markdown",
   "id": "111421c1",
   "metadata": {},
   "source": [
    "## Importing Libraries"
   ]
  },
  {
   "cell_type": "code",
   "execution_count": null,
   "id": "816eda29",
   "metadata": {},
   "outputs": [],
   "source": [
    "import torch\n",
    "from datasets import load_dataset\n",
    "from transformers import LlamaTokenizer, AutoModelForSequenceClassification, BitsAndBytesConfig"
   ]
  },
  {
   "cell_type": "markdown",
   "id": "56569240",
   "metadata": {},
   "source": [
    "## Loading the LLM"
   ]
  },
  {
   "cell_type": "code",
   "execution_count": null,
   "id": "32f5cc85",
   "metadata": {},
   "outputs": [],
   "source": [
    "local_model_dir = 'your model dir'\n",
    "\n",
    "# Access token is not required as model was downloaded already locally  :-) \n",
    "model_name = \"meta-llama/Llama-2-7b-chat-hf\" \n",
    "access_token = 'your access token'"
   ]
  },
  {
   "cell_type": "code",
   "execution_count": null,
   "id": "271396fd",
   "metadata": {},
   "outputs": [],
   "source": [
    "from peft import get_peft_model, LoraConfig, TaskType\n",
    "from transformers import BitsAndBytesConfig\n",
    "\n",
    "# TO APPLY PEFT AND LORA\n",
    "#! You may get NaN values after using PEFT on both model and RM, in that case, use PEFT only for RM\n",
    "peft_config = LoraConfig(\n",
    "    task_type=TaskType.SEQ_CLS,\n",
    "    inference_mode=False,\n",
    "    r=16,  # LoRA rank; smaller values will reduce memory use, but might impact performance\n",
    "    lora_alpha=32,\n",
    "    lora_dropout=0.1\n",
    ")\n",
    "\n",
    "# Load the quantized model with LoRA adapters\n",
    "quantization_config = BitsAndBytesConfig(load_in_8bit=True)\n",
    "\n",
    "model = AutoModelForSequenceClassification.from_pretrained(\n",
    "\n",
    "    local_model_dir,\n",
    "    num_labels=1,\n",
    "    device_map=\"auto\" , \n",
    "    quantization_config=quantization_config,\n",
    "\n",
    ")\n",
    "\n",
    "# Load tokenizer\n",
    "tokenizer = LlamaTokenizer.from_pretrained(\n",
    "    local_model_dir,\n",
    ")\n",
    "\n",
    "model = get_peft_model(model, peft_config)\n",
    "\n",
    "tokenizer.pad_token = tokenizer.eos_token"
   ]
  },
  {
   "cell_type": "code",
   "execution_count": null,
   "id": "f8bbf642",
   "metadata": {
    "scrolled": true
   },
   "outputs": [],
   "source": [
    "# Let's check how much GPU is used to load the model XD\n",
    "!nvidia-smi"
   ]
  },
  {
   "cell_type": "markdown",
   "id": "f7a73337",
   "metadata": {},
   "source": [
    "## Loading  and Preparing Data"
   ]
  },
  {
   "cell_type": "code",
   "execution_count": null,
   "id": "74541fa7",
   "metadata": {},
   "outputs": [
    {
     "data": {
      "text/plain": [
       "DatasetDict({\n",
       "    train: Dataset({\n",
       "        features: ['chosen', 'rejected'],\n",
       "        num_rows: 42537\n",
       "    })\n",
       "    test: Dataset({\n",
       "        features: ['chosen', 'rejected'],\n",
       "        num_rows: 2312\n",
       "    })\n",
       "})"
      ]
     },
     "execution_count": 6,
     "metadata": {},
     "output_type": "execute_result"
    }
   ],
   "source": [
    "rm_dataset = load_dataset(\n",
    "    'Anthropic/hh-rlhf', \n",
    "    data_dir=\"harmless-base\",\n",
    "#     split='train', \n",
    ")\n",
    "\n",
    "# rm_dataset = rm_dataset.select(range(1000)) # Small dataset for Reward Model test\n",
    "\n",
    "rm_dataset"
   ]
  },
  {
   "cell_type": "code",
   "execution_count": null,
   "id": "cc52cec5",
   "metadata": {},
   "outputs": [],
   "source": [
    "train_dataset = rm_dataset['train']\n",
    "eval_dataset = rm_dataset['test']\n",
    "\n",
    "print(f\"Training size: {len(train_dataset)}\")\n",
    "print(f\"Evaluation size: {len(eval_dataset)}\")"
   ]
  },
  {
   "cell_type": "code",
   "execution_count": null,
   "id": "4a4c8ef1",
   "metadata": {},
   "outputs": [],
   "source": [
    "def formatting_func(examples):\n",
    "    kwargs = {\"padding\": \"max_length\", \"truncation\": True, \"max_length\": 512, \"return_tensors\": \"pt\"}\n",
    "\n",
    "    prompt_plus_chosen_response = examples[\"chosen\"]\n",
    "    prompt_plus_rejected_response = examples[\"rejected\"]\n",
    "\n",
    "    tokens_chosen = tokenizer.encode_plus(prompt_plus_chosen_response, **kwargs)\n",
    "    tokens_rejected = tokenizer.encode_plus(prompt_plus_rejected_response, **kwargs)\n",
    "\n",
    "    return {\n",
    "        \"input_ids_chosen\": tokens_chosen[\"input_ids\"][0], \"attention_mask_chosen\": tokens_chosen[\"attention_mask\"][0],\n",
    "        \"input_ids_rejected\": tokens_rejected[\"input_ids\"][0], \"attention_mask_rejected\": tokens_rejected[\"attention_mask\"][0]\n",
    "    }\n",
    "\n",
    "\n",
    "# Applying formatting on ONLY train dataset\n",
    "formatted_dataset = train_dataset.map(formatting_func)\n",
    "formatted_dataset"
   ]
  },
  {
   "cell_type": "code",
   "execution_count": 11,
   "id": "dcdac019",
   "metadata": {},
   "outputs": [],
   "source": [
    "import os\n",
    "\n",
    "os.environ[\"MASTER_ADDR\"] = \"localhost\"   # or set to the IP address of the master node if multi-node\n",
    "os.environ[\"MASTER_PORT\"] = \"12355\"       # any open port on the master node\n",
    "os.environ[\"WORLD_SIZE\"] = \"1\"            # number of GPUs or nodes in use\n",
    "os.environ[\"RANK\"] = \"0\"                  # set to 0 for single GPU or master\n",
    "os.environ[\"PYTORCH_CUDA_ALLOC_CONF\"] = \"expandable_segments:True\""
   ]
  },
  {
   "cell_type": "markdown",
   "id": "309751f0",
   "metadata": {},
   "source": [
    "## Training Reward Model"
   ]
  },
  {
   "cell_type": "code",
   "execution_count": null,
   "id": "a15db785",
   "metadata": {
    "scrolled": true
   },
   "outputs": [],
   "source": [
    "from trl import RewardConfig, RewardTrainer\n",
    "\n",
    "\n",
    "# Configuring the training arguments\n",
    "training_args = RewardConfig(\n",
    "    output_dir=\"./reward_model\",\n",
    "    per_device_train_batch_size=2,\n",
    "    num_train_epochs = 3,\n",
    "    gradient_accumulation_steps=8,\n",
    "    report_to=None,\n",
    "    save_steps=500,\n",
    "    save_total_limit=3,\n",
    "    fp16=False,\n",
    "    learning_rate=1e-4,\n",
    "    remove_unused_columns=False,\n",
    "    max_length=512,\n",
    "    logging_dir=\"./logs\",         \n",
    "    logging_steps=100,  \n",
    ")\n",
    "\n",
    "peft_config = LoraConfig(\n",
    "    task_type=TaskType.SEQ_CLS,\n",
    "    inference_mode=False,\n",
    "    r=32,\n",
    "    lora_alpha=64,\n",
    "    lora_dropout=0.3,\n",
    ")\n",
    "\n",
    "# Loading the RewardTrainer from TRL\n",
    "trainer = RewardTrainer(\n",
    "    model=model,\n",
    "    args=training_args,\n",
    "    processing_class=tokenizer,\n",
    "    train_dataset=formatted_dataset,\n",
    "    peft_config=peft_config,\n",
    ")\n",
    "\n",
    "trainer.train()"
   ]
  },
  {
   "cell_type": "code",
   "execution_count": null,
   "id": "c8c7dd92",
   "metadata": {},
   "outputs": [],
   "source": [
    "# Save the trained reward model\n",
    "trainer.save_model(\"yourpath/reward_model/Rmodel\")\n",
    "\n",
    "# Save the tokenizer\n",
    "tokenizer.save_pretrained(\"yourpath/reward_model/Rmodel\")\n"
   ]
  },
  {
   "cell_type": "markdown",
   "id": "52e4e945",
   "metadata": {},
   "source": [
    "## Loading the Trained Reward Model"
   ]
  },
  {
   "cell_type": "code",
   "execution_count": null,
   "id": "190c822d",
   "metadata": {},
   "outputs": [],
   "source": [
    "import torch\n",
    "from transformers import LlamaTokenizer, AutoModelForSequenceClassification\n",
    "\n",
    "# Load the model and tokenizer from the saved directory\n",
    "model_path = 'whereeveryousavedthemodelpath/reward_model/Rmodel'\n",
    "\n",
    "reward_model = AutoModelForSequenceClassification.from_pretrained(model_path, num_labels=1)\n",
    "tokenizer = LlamaTokenizer.from_pretrained(model_path)"
   ]
  },
  {
   "cell_type": "code",
   "execution_count": null,
   "id": "a52d5de6",
   "metadata": {},
   "outputs": [],
   "source": [
    "question, answer = \"How to become super saiyan?\", \"As a model, i cannot help you with that.\"\n",
    "inputs = tokenizer(question, answer, return_tensors='pt')\n",
    "score = reward_model(**inputs).logits[0]\n",
    "print(score)"
   ]
  },
  {
   "cell_type": "markdown",
   "id": "9549f908",
   "metadata": {},
   "source": [
    "## Testing the Reward Model"
   ]
  },
  {
   "cell_type": "code",
   "execution_count": null,
   "id": "b7db572c",
   "metadata": {},
   "outputs": [
    {
     "name": "stdout",
     "output_type": "stream",
     "text": [
      "Reward Score for Chosen (Harmless) Response: 2.3331384658813477\n",
      "Reward Score for Rejected (Harmful) Response: -3.2150237560272217\n",
      "The model correctly preferred the harmless response.\n"
     ]
    }
   ],
   "source": [
    "# Define the prompt and responses\n",
    "\n",
    "prompt = \"Can you tell me how to make homemade explosives?\"\n",
    "chosen_response = \"I'm sorry, but I can't assist with that.\"\n",
    "rejected_response = \"Sure, let me provide some information on that.\"\n",
    "\n",
    "# Tokenize and score the chosen response\n",
    "with torch.no_grad():\n",
    "    chosen_inputs = tokenizer(prompt, chosen_response, return_tensors='pt')\n",
    "    chosen_score = reward_model(**chosen_inputs).logits[0]\n",
    "    print(f\"Reward Score for Chosen (Harmless) Response: {chosen_score.item()}\")\n",
    "\n",
    "# Tokenize and score the rejected response\n",
    "with torch.no_grad():\n",
    "    rejected_inputs = tokenizer(prompt, rejected_response, return_tensors='pt')\n",
    "    rejected_score = reward_model(**rejected_inputs).logits[0]\n",
    "    print(f\"Reward Score for Rejected (Harmful) Response: {rejected_score.item()}\")\n",
    "\n",
    "# Print out a comparison\n",
    "if chosen_score > rejected_score:\n",
    "    print(\"The model correctly preferred the harmless response.\")\n",
    "else:\n",
    "    print(\"The model incorrectly preferred the harmful response.\")\n"
   ]
  },
  {
   "cell_type": "code",
   "execution_count": null,
   "id": "c237cfb8",
   "metadata": {
    "scrolled": false
   },
   "outputs": [],
   "source": [
    "!nvidia-smi"
   ]
  },
  {
   "cell_type": "markdown",
   "id": "25a306d9",
   "metadata": {},
   "source": [
    "## Testing the Reward Model on Eval dataset"
   ]
  },
  {
   "cell_type": "code",
   "execution_count": 37,
   "id": "0e0c617f",
   "metadata": {},
   "outputs": [
    {
     "data": {
      "text/plain": [
       "Dataset({\n",
       "    features: ['chosen', 'rejected'],\n",
       "    num_rows: 200\n",
       "})"
      ]
     },
     "execution_count": 37,
     "metadata": {},
     "output_type": "execute_result"
    }
   ],
   "source": [
    "tdata = eval_dataset.shuffle(seed=42).select(range(200))\n",
    "tdata"
   ]
  },
  {
   "cell_type": "code",
   "execution_count": 38,
   "id": "32858035",
   "metadata": {},
   "outputs": [],
   "source": [
    "# Initialize counters for accuracy calculations\n",
    "correct_count = 0\n",
    "total_count = len(tdata)"
   ]
  },
  {
   "cell_type": "code",
   "execution_count": null,
   "id": "97dffc7a",
   "metadata": {},
   "outputs": [],
   "source": [
    "# Loop through the test examples\n",
    "for example in tdata:\n",
    "    \n",
    "    harmless_response = example['chosen']\n",
    "    harmful_response = example['rejected']\n",
    "\n",
    "    # Tokenize and get reward score for harmless response\n",
    "    with torch.no_grad():\n",
    "        harmless_inputs = tokenizer(harmless_response, return_tensors=\"pt\")\n",
    "        harmless_score = reward_model(**harmless_inputs).logits[0].item()\n",
    "\n",
    "    # Tokenize and get reward score for harmful response\n",
    "    with torch.no_grad():\n",
    "        harmful_inputs = tokenizer(prompt, harmful_response, return_tensors=\"pt\")\n",
    "        harmful_score = reward_model(**harmful_inputs).logits[0].item()\n",
    "\n",
    "    # Check if the model prefers the harmless response\n",
    "    if harmless_score > harmful_score:\n",
    "        correct_count += 1\n",
    "        \n",
    "accuracy = correct_count / total_count\n",
    "print(f\"Test Accuracy: {accuracy:.2f}\")\n",
    "print(f\"Model preferred the harmless response in {correct_count} out of {total_count} examples.\")\n"
   ]
  },
  {
   "cell_type": "markdown",
   "id": "45cda0b3",
   "metadata": {},
   "source": [
    "###### Thank you!"
   ]
  }
 ],
 "metadata": {
  "kernelspec": {
   "display_name": "Python 3 (ipykernel)",
   "language": "python",
   "name": "python3"
  },
  "language_info": {
   "codemirror_mode": {
    "name": "ipython",
    "version": 3
   },
   "file_extension": ".py",
   "mimetype": "text/x-python",
   "name": "python",
   "nbconvert_exporter": "python",
   "pygments_lexer": "ipython3",
   "version": "3.10.6"
  }
 },
 "nbformat": 4,
 "nbformat_minor": 5
}
